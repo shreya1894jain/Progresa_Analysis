{
 "cells": [
  {
   "cell_type": "markdown",
   "metadata": {
    "ein.tags": [
     "worksheet-0"
    ],
    "slideshow": {
     "slide_type": "-"
    }
   },
   "source": [
    "## Introduction to the assignment\n",
    "\n",
    "For this analysis, we will be using data from the [Progresa program](http://en.wikipedia.org/wiki/Oportunidades), a government social assistance program in Mexico. This program, as well as the details of its impact, are described in the paper \"[School subsidies for the poor: evaluating the Mexican Progresa poverty program](http://www.sciencedirect.com/science/article/pii/S0304387803001858)\", by Paul Shultz\n",
    "\n",
    "The goal of this analysis is to implement some of the basic econometric techniques that you are learning in class to measure the impact of Progresa on secondary school enrollment rates. The timeline of the program was:\n",
    "\n",
    " * Baseline survey conducted in 1997\n",
    " * Intervention begins in 1998, \"Wave 1\" of data collected in 1998\n",
    " * \"Wave 2 of data\" collected in 1999\n",
    " * Evaluation ends in 2000, at which point the control villages were treated. \n",
    " \n",
    "The data are actual data collected to evaluate the impact of the Progresa program.  In this file, each row corresponds to an observation taken for a given child for a given year. There are two years of data (1997 and 1998), and just under 40,000 children who are surveyed in each year. For each child-year observation, the following variables are collected:\n",
    "\n",
    "| Variable name | Description|\n",
    "|---------|---------|\n",
    "|year\t  |year in which data is collected\n",
    "|sex\t  |male = 1|\n",
    "|indig\t  |indigenous = 1|\n",
    "|dist_sec |nearest distance to a secondary school|\n",
    "|sc\t      |enrolled in school in year of survey|\n",
    "|grc      |grade enrolled|\n",
    "|fam_n    |family size|\n",
    "|min_dist |\tmin distance to an urban center|\n",
    "|dist_cap |\tmin distance to the capital|\n",
    "|poor     |\tpoor = 1|\n",
    "|progresa |treatment =1|\n",
    "|hohedu\t  |years of schooling of head of household|\n",
    "|hohwag\t  |monthly wages of head of household|\n",
    "|welfare_index|\twelfare index used to classify poor|\n",
    "|hohsex\t  |gender of head of household (male=1)|\n",
    "|hohage   |age of head of household|\n",
    "|age      |years old|\n",
    "|folnum\t  |individual id|\n",
    "|village  |\tvillage id|\n",
    "|sc97\t  |schooling in 1997|"
   ]
  },
  {
   "cell_type": "code",
   "execution_count": 1,
   "metadata": {
    "collapsed": false
   },
   "outputs": [],
   "source": [
    "# Importing libraries\n",
    "\n",
    "import pandas as pd\n",
    "from scipy import stats\n",
    "import numpy as np\n",
    "import matplotlib.pyplot as plt\n",
    "import matplotlib\n",
    "from pylab import *\n",
    "from scipy import *\n",
    "from pylab import rcParams\n",
    "import statsmodels.formula.api as smf\n",
    "%matplotlib inline\n",
    "\n",
    "progresa_df= pd.read_csv('progresa_sample.csv')\n",
    "\n"
   ]
  },
  {
   "cell_type": "markdown",
   "metadata": {
    "ein.tags": [
     "worksheet-0"
    ],
    "slideshow": {
     "slide_type": "-"
    }
   },
   "source": [
    "---\n",
    "\n",
    "##Part 1: Descriptive analysis\n",
    "\n",
    "### 1.1\tSummary Statistics\n",
    "\n"
   ]
  },
  {
   "cell_type": "code",
   "execution_count": 2,
   "metadata": {
    "autoscroll": "json-false",
    "collapsed": false,
    "ein.tags": [
     "worksheet-0"
    ],
    "slideshow": {
     "slide_type": "-"
    }
   },
   "outputs": [
    {
     "name": "stderr",
     "output_type": "stream",
     "text": [
      "//anaconda/lib/python3.5/site-packages/numpy/lib/function_base.py:3834: RuntimeWarning: Invalid value encountered in percentile\n",
      "  RuntimeWarning)\n"
     ]
    },
    {
     "data": {
      "text/html": [
       "<div>\n",
       "<table border=\"1\" class=\"dataframe\">\n",
       "  <thead>\n",
       "    <tr style=\"text-align: right;\">\n",
       "      <th></th>\n",
       "      <th>sex</th>\n",
       "      <th>indig</th>\n",
       "      <th>dist_sec</th>\n",
       "      <th>sc</th>\n",
       "      <th>grc</th>\n",
       "      <th>fam_n</th>\n",
       "      <th>min_dist</th>\n",
       "      <th>dist_cap</th>\n",
       "      <th>hohedu</th>\n",
       "      <th>hohwag</th>\n",
       "      <th>welfare_index</th>\n",
       "      <th>hohsex</th>\n",
       "      <th>hohage</th>\n",
       "      <th>age</th>\n",
       "      <th>grc97</th>\n",
       "      <th>sc97</th>\n",
       "    </tr>\n",
       "  </thead>\n",
       "  <tbody>\n",
       "    <tr>\n",
       "      <th>mean</th>\n",
       "      <td>0.512211</td>\n",
       "      <td>0.298324</td>\n",
       "      <td>2.418910</td>\n",
       "      <td>0.819818</td>\n",
       "      <td>3.963537</td>\n",
       "      <td>7.215715</td>\n",
       "      <td>103.447520</td>\n",
       "      <td>147.674452</td>\n",
       "      <td>2.768104</td>\n",
       "      <td>586.985312</td>\n",
       "      <td>690.346564</td>\n",
       "      <td>0.925185</td>\n",
       "      <td>44.436717</td>\n",
       "      <td>11.366460</td>\n",
       "      <td>3.705372</td>\n",
       "      <td>0.813922</td>\n",
       "    </tr>\n",
       "    <tr>\n",
       "      <th>std</th>\n",
       "      <td>0.499854</td>\n",
       "      <td>0.457525</td>\n",
       "      <td>2.234109</td>\n",
       "      <td>0.384342</td>\n",
       "      <td>2.499063</td>\n",
       "      <td>2.352900</td>\n",
       "      <td>42.089441</td>\n",
       "      <td>76.063134</td>\n",
       "      <td>2.656106</td>\n",
       "      <td>788.133664</td>\n",
       "      <td>139.491130</td>\n",
       "      <td>0.263095</td>\n",
       "      <td>11.620372</td>\n",
       "      <td>3.167744</td>\n",
       "      <td>2.572387</td>\n",
       "      <td>0.389172</td>\n",
       "    </tr>\n",
       "  </tbody>\n",
       "</table>\n",
       "</div>"
      ],
      "text/plain": [
       "           sex     indig  dist_sec        sc       grc     fam_n    min_dist  \\\n",
       "mean  0.512211  0.298324  2.418910  0.819818  3.963537  7.215715  103.447520   \n",
       "std   0.499854  0.457525  2.234109  0.384342  2.499063  2.352900   42.089441   \n",
       "\n",
       "        dist_cap    hohedu      hohwag  welfare_index    hohsex     hohage  \\\n",
       "mean  147.674452  2.768104  586.985312     690.346564  0.925185  44.436717   \n",
       "std    76.063134  2.656106  788.133664     139.491130  0.263095  11.620372   \n",
       "\n",
       "            age     grc97      sc97  \n",
       "mean  11.366460  3.705372  0.813922  \n",
       "std    3.167744  2.572387  0.389172  "
      ]
     },
     "execution_count": 2,
     "metadata": {},
     "output_type": "execute_result"
    }
   ],
   "source": [
    "prog_sum = progresa_df.describe()\n",
    "prog_sum.loc[['mean','std']][['sex','indig','dist_sec','sc','grc','fam_n','min_dist','dist_cap',  \n",
    "                                     'hohedu','hohwag','welfare_index','hohsex','hohage','age','grc97','sc97']]"
   ]
  },
  {
   "cell_type": "markdown",
   "metadata": {
    "ein.tags": [
     "worksheet-0"
    ],
    "slideshow": {
     "slide_type": "-"
    }
   },
   "source": [
    "### 1.2 Differences at baseline?\n",
    "\n",
    "Are the baseline (1997) demographic characteristics **for the poor**  different in treatment and control villages? "
   ]
  },
  {
   "cell_type": "code",
   "execution_count": 3,
   "metadata": {
    "autoscroll": "json-false",
    "collapsed": false,
    "ein.tags": [
     "worksheet-0"
    ],
    "slideshow": {
     "slide_type": "-"
    }
   },
   "outputs": [
    {
     "data": {
      "text/html": [
       "<div>\n",
       "<table border=\"1\" class=\"dataframe\">\n",
       "  <thead>\n",
       "    <tr style=\"text-align: right;\">\n",
       "      <th></th>\n",
       "      <th>Variable name</th>\n",
       "      <th>Average value (Treatment villages)</th>\n",
       "      <th>Average value (Control villages)</th>\n",
       "      <th>Difference (Treat - Control)</th>\n",
       "      <th>p-value</th>\n",
       "    </tr>\n",
       "  </thead>\n",
       "  <tbody>\n",
       "    <tr>\n",
       "      <th>0</th>\n",
       "      <td>sex</td>\n",
       "      <td>0.519317</td>\n",
       "      <td>0.505052</td>\n",
       "      <td>2.50669</td>\n",
       "      <td>0.0121917</td>\n",
       "    </tr>\n",
       "    <tr>\n",
       "      <th>1</th>\n",
       "      <td>indig</td>\n",
       "      <td>0.325986</td>\n",
       "      <td>0.332207</td>\n",
       "      <td>-1.16171</td>\n",
       "      <td>0.24536</td>\n",
       "    </tr>\n",
       "    <tr>\n",
       "      <th>2</th>\n",
       "      <td>dist_sec</td>\n",
       "      <td>2.45312</td>\n",
       "      <td>2.50766</td>\n",
       "      <td>-2.10043</td>\n",
       "      <td>0.0356984</td>\n",
       "    </tr>\n",
       "    <tr>\n",
       "      <th>3</th>\n",
       "      <td>sc</td>\n",
       "      <td>0.822697</td>\n",
       "      <td>0.815186</td>\n",
       "      <td>1.66874</td>\n",
       "      <td>0.0951781</td>\n",
       "    </tr>\n",
       "    <tr>\n",
       "      <th>4</th>\n",
       "      <td>grc</td>\n",
       "      <td>3.5316</td>\n",
       "      <td>3.54305</td>\n",
       "      <td>-0.400196</td>\n",
       "      <td>0.689015</td>\n",
       "    </tr>\n",
       "    <tr>\n",
       "      <th>5</th>\n",
       "      <td>fam_n</td>\n",
       "      <td>7.28133</td>\n",
       "      <td>7.30247</td>\n",
       "      <td>-0.794167</td>\n",
       "      <td>0.427104</td>\n",
       "    </tr>\n",
       "    <tr>\n",
       "      <th>6</th>\n",
       "      <td>min_dist</td>\n",
       "      <td>107.153</td>\n",
       "      <td>103.238</td>\n",
       "      <td>8.20658</td>\n",
       "      <td>2.35831e-16</td>\n",
       "    </tr>\n",
       "    <tr>\n",
       "      <th>7</th>\n",
       "      <td>dist_cap</td>\n",
       "      <td>150.829</td>\n",
       "      <td>153.77</td>\n",
       "      <td>-3.33908</td>\n",
       "      <td>0.000841501</td>\n",
       "    </tr>\n",
       "    <tr>\n",
       "      <th>8</th>\n",
       "      <td>hohedu</td>\n",
       "      <td>2.66314</td>\n",
       "      <td>2.59035</td>\n",
       "      <td>2.54123</td>\n",
       "      <td>0.0110509</td>\n",
       "    </tr>\n",
       "    <tr>\n",
       "      <th>9</th>\n",
       "      <td>hohwag</td>\n",
       "      <td>544.34</td>\n",
       "      <td>573.164</td>\n",
       "      <td>-3.59459</td>\n",
       "      <td>0.000325384</td>\n",
       "    </tr>\n",
       "    <tr>\n",
       "      <th>10</th>\n",
       "      <td>welfare_index</td>\n",
       "      <td>655.428</td>\n",
       "      <td>659.579</td>\n",
       "      <td>-3.18859</td>\n",
       "      <td>0.00143102</td>\n",
       "    </tr>\n",
       "    <tr>\n",
       "      <th>11</th>\n",
       "      <td>hohsex</td>\n",
       "      <td>0.924656</td>\n",
       "      <td>0.922947</td>\n",
       "      <td>0.566312</td>\n",
       "      <td>0.571186</td>\n",
       "    </tr>\n",
       "    <tr>\n",
       "      <th>12</th>\n",
       "      <td>hohage</td>\n",
       "      <td>43.6488</td>\n",
       "      <td>44.2769</td>\n",
       "      <td>-4.77596</td>\n",
       "      <td>1.79624e-06</td>\n",
       "    </tr>\n",
       "    <tr>\n",
       "      <th>13</th>\n",
       "      <td>age</td>\n",
       "      <td>10.717</td>\n",
       "      <td>10.742</td>\n",
       "      <td>-0.70863</td>\n",
       "      <td>0.478559</td>\n",
       "    </tr>\n",
       "    <tr>\n",
       "      <th>14</th>\n",
       "      <td>grc97</td>\n",
       "      <td>3.5316</td>\n",
       "      <td>3.54305</td>\n",
       "      <td>-0.400196</td>\n",
       "      <td>0.689015</td>\n",
       "    </tr>\n",
       "    <tr>\n",
       "      <th>15</th>\n",
       "      <td>sc97</td>\n",
       "      <td>0.822697</td>\n",
       "      <td>0.815186</td>\n",
       "      <td>1.66874</td>\n",
       "      <td>0.0951781</td>\n",
       "    </tr>\n",
       "  </tbody>\n",
       "</table>\n",
       "</div>"
      ],
      "text/plain": [
       "    Variable name Average value (Treatment villages)  \\\n",
       "0             sex                           0.519317   \n",
       "1           indig                           0.325986   \n",
       "2        dist_sec                            2.45312   \n",
       "3              sc                           0.822697   \n",
       "4             grc                             3.5316   \n",
       "5           fam_n                            7.28133   \n",
       "6        min_dist                            107.153   \n",
       "7        dist_cap                            150.829   \n",
       "8          hohedu                            2.66314   \n",
       "9          hohwag                             544.34   \n",
       "10  welfare_index                            655.428   \n",
       "11         hohsex                           0.924656   \n",
       "12         hohage                            43.6488   \n",
       "13            age                             10.717   \n",
       "14          grc97                             3.5316   \n",
       "15           sc97                           0.822697   \n",
       "\n",
       "   Average value (Control villages) Difference (Treat - Control)      p-value  \n",
       "0                          0.505052                      2.50669    0.0121917  \n",
       "1                          0.332207                     -1.16171      0.24536  \n",
       "2                           2.50766                     -2.10043    0.0356984  \n",
       "3                          0.815186                      1.66874    0.0951781  \n",
       "4                           3.54305                    -0.400196     0.689015  \n",
       "5                           7.30247                    -0.794167     0.427104  \n",
       "6                           103.238                      8.20658  2.35831e-16  \n",
       "7                            153.77                     -3.33908  0.000841501  \n",
       "8                           2.59035                      2.54123    0.0110509  \n",
       "9                           573.164                     -3.59459  0.000325384  \n",
       "10                          659.579                     -3.18859   0.00143102  \n",
       "11                         0.922947                     0.566312     0.571186  \n",
       "12                          44.2769                     -4.77596  1.79624e-06  \n",
       "13                           10.742                     -0.70863     0.478559  \n",
       "14                          3.54305                    -0.400196     0.689015  \n",
       "15                         0.815186                      1.66874    0.0951781  "
      ]
     },
     "execution_count": 3,
     "metadata": {},
     "output_type": "execute_result"
    }
   ],
   "source": [
    "#Restructuring columns\n",
    "progresa_df.loc[progresa_df.progresa == '0', 'progresa'] = 0\n",
    "progresa_df.loc[progresa_df.progresa == 'basal', 'progresa'] = 1\n",
    "progresa_df.loc[progresa_df.poor == 'pobre', 'poor'] = 1\n",
    "progresa_df.loc[progresa_df.poor == 'no pobre', 'poor'] = 0\n",
    "\n",
    "#Subsetting data\n",
    "prog_treatment = progresa_df[(progresa_df.year == 97) & (progresa_df.poor == 1) & (progresa_df.progresa == 1)]\n",
    "prog_control = progresa_df[(progresa_df.year == 97) & (progresa_df.poor == 1) & (progresa_df.progresa == 0)]\n",
    "\n",
    "test_df = pd.DataFrame(columns= ['Variable name', 'Average value (Treatment villages)','Average value (Control villages)','Difference (Treat - Control)','p-value'])\n",
    "cols = [col for col in progresa_df.columns if col not in ['year', 'folnum', 'village', 'poor', 'progresa']]\n",
    "df2 = progresa_df[cols]\n",
    "\n",
    "\n",
    "for i in cols:\n",
    "    test_df.set_value(cols.index(i),'Variable name', i)\n",
    "    test_df.set_value(cols.index(i), 'Average value (Treatment villages)', prog_treatment[str(i)].mean())\n",
    "    test_df.set_value(cols.index(i), 'Average value (Control villages)', prog_control[str(i)].mean())\n",
    "    t = stats.ttest_ind(prog_treatment[str(i)][~np.isnan(prog_treatment[str(i)])], prog_control[str(i)][~np.isnan(prog_control[str(i)])])\n",
    "    test_df.set_value(cols.index(i), 'Difference (Treat - Control)', t.statistic)\n",
    "    test_df.set_value(cols.index(i), 'p-value', t.pvalue)\n",
    "    \n",
    "test_df"
   ]
  },
  {
   "cell_type": "markdown",
   "metadata": {},
   "source": []
  },
  {
   "cell_type": "markdown",
   "metadata": {
    "ein.tags": [
     "worksheet-0"
    ],
    "slideshow": {
     "slide_type": "-"
    }
   },
   "source": [
    "### 1.3 Interpretation\n",
    "\n",
    "* A: Are there statistically significant differences between treatment and control villages as baseline? \n",
    "* B: Why does it matter if there are differences at baseline?\n",
    "* C: What does this imply about how to measure the impact of the treatment?"
   ]
  },
  {
   "cell_type": "markdown",
   "metadata": {
    "autoscroll": "json-false",
    "collapsed": false,
    "ein.tags": [
     "worksheet-0"
    ],
    "slideshow": {
     "slide_type": "-"
    }
   },
   "source": [
    "A. The baseline demographic characteristics for the poor are slightly different at the baseline for a few variables as we can see from the above table. Thus there is a statistically significant difference between the values at the start of the experiment i.e at the baseline.\n",
    "\n",
    "B. The difference at baseline matters because ideally both the groups should be similar at the start of the experiment so that we have a good control over the factors during the experiment. This suggests poor randomization techniques for selection of the groups.\n",
    "\n",
    "C. This implies that we cannot directly conclude that the experiment resulted in a causal relationship for the differences in the two groups as there already existed some differences at the baseline. Thus we might have to look into different techniques to assess the same."
   ]
  },
  {
   "cell_type": "markdown",
   "metadata": {
    "ein.tags": [
     "worksheet-0"
    ],
    "slideshow": {
     "slide_type": "-"
    }
   },
   "source": [
    "### 1.4 Graphical exploration, part 1\n",
    "\n",
    "For each level of household head education, compute the average enrollment rate in 1997. "
   ]
  },
  {
   "cell_type": "code",
   "execution_count": 4,
   "metadata": {
    "autoscroll": "json-false",
    "collapsed": false,
    "ein.tags": [
     "worksheet-0"
    ],
    "slideshow": {
     "slide_type": "-"
    }
   },
   "outputs": [
    {
     "data": {
      "text/plain": [
       "<matplotlib.collections.PathCollection at 0x115837630>"
      ]
     },
     "execution_count": 4,
     "metadata": {},
     "output_type": "execute_result"
    },
    {
     "data": {
      "image/png": "[encoded data removed]",
      "text/plain": [
       "<matplotlib.figure.Figure at 0x1045fb780>"
      ]
     },
     "metadata": {},
     "output_type": "display_data"
    }
   ],
   "source": [
    "#Scatter plot for level of household head education and average enrollment\n",
    "\n",
    "df2=pd.DataFrame(progresa_df.groupby('hohedu')['sc97'].mean())\n",
    "df2['hohedu'] = df2.index\n",
    "plt.scatter(df2['hohedu'], df2['sc97'])\n"
   ]
  },
  {
   "cell_type": "markdown",
   "metadata": {},
   "source": [
    "The relationship, as seen from the graph above, is fairly linear and the average enrollment increases steadily as the level of household head education increases. There are slight drops at 10, 15 and 20 which are interesting to see."
   ]
  },
  {
   "cell_type": "markdown",
   "metadata": {
    "ein.tags": [
     "worksheet-0"
    ],
    "slideshow": {
     "slide_type": "-"
    }
   },
   "source": [
    "### 1.5 Graphical exploration, part 2\n",
    "\n",
    "Create a histogram of village enrollment rates **among poor households in treated villages**, before and after treatment. Specifically, for each village, calculate the average rate of enrollment of poor households in treated villages in 1997, then compute the average rate of enrollment of poor households in treated villages in 1998. Create two separate histograms showing the distribution of these average enrollments rates, one histogram for 1997 and one histogram for 1998. On each histogram, draw a vertical line that intersects the x-axis at the average value (across all households).\n",
    "* Does there appear to be a difference? Is this difference statistically significant?\n",
    "* Which D estimator in Schultz (2004) does this approach correspond to?"
   ]
  },
  {
   "cell_type": "code",
   "execution_count": 5,
   "metadata": {
    "autoscroll": "json-false",
    "collapsed": false,
    "ein.tags": [
     "worksheet-0"
    ],
    "slideshow": {
     "slide_type": "-"
    }
   },
   "outputs": [
    {
     "name": "stdout",
     "output_type": "stream",
     "text": [
      "\n",
      "T statistic\n",
      "Ttest_indResult(statistic=-2.0157134865156379, pvalue=0.04424870036572115)\n",
      "\n",
      " Mean\n",
      "0.8138394110596501 0.8295362042630732\n"
     ]
    },
    {
     "data": {
      "image/png": "[encoded data removed]",
      "text/plain": [
       "<matplotlib.figure.Figure at 0x1158a2240>"
      ]
     },
     "metadata": {},
     "output_type": "display_data"
    }
   ],
   "source": [
    "#Subset dataframe\n",
    "prog_1997 = progresa_df[(progresa_df.year == 97) & (progresa_df.poor == 1) & (progresa_df.progresa == 1)]\n",
    "df97=pd.DataFrame(prog_1997.groupby('village')['sc'].mean())\n",
    "prog_98 = progresa_df[(progresa_df.year == 98) & (progresa_df.poor == 1) & (progresa_df.progresa == 1)]\n",
    "df98=pd.DataFrame(prog_98.groupby('village')['sc'].mean())\n",
    "fig = plt.figure()\n",
    "ax1 = fig.add_subplot(131)\n",
    "\n",
    "#Plot histogram for 1997\n",
    "ax1.hist(df97['sc'], color = \"brown\")\n",
    "xlabel(\"Average Rate of Enrollment in 1997\")\n",
    "ylabel(\"Number of Villages\")\n",
    "plt.axvline(df97['sc'].mean(), color='blue', linestyle='dashed')\n",
    "\n",
    "#Plot histogram for 1998\n",
    "ax1 = fig.add_subplot(133)\n",
    "ax1.hist(df98['sc'], color = \"pink\")\n",
    "xlabel(\"Average Rate of Enrollment in 1998\")\n",
    "ylabel(\"Number of Villages\")\n",
    "plt.axvline(df98['sc'].mean(), color='blue', linestyle='dashed')\n",
    "\n",
    "#T test\n",
    "t = stats.ttest_ind(df97['sc'], df98['sc'])\n",
    "print('\\nT statistic')\n",
    "print(t)\n",
    "print('\\n Mean')\n",
    "print(df97['sc'].mean(),df98['sc'].mean())\n"
   ]
  },
  {
   "cell_type": "markdown",
   "metadata": {},
   "source": [
    "Does there appear to be a difference? Is this difference statistically significant?\n",
    "We can see that there is a very slight difference in the means of the 2 samples. This implies that there isn't a lot of difference in the samples before and after treatment. To verify this, I also performed a t test and we can see that the p value is slightly <0.05 thus implying that the difference is statistically significant but by a very small margin.\n"
   ]
  },
  {
   "cell_type": "markdown",
   "metadata": {
    "ein.tags": [
     "worksheet-0"
    ],
    "slideshow": {
     "slide_type": "-"
    }
   },
   "source": [
    "## Part 2: Measuring Impact\n",
    "\n",
    "### 2.1 Simple differences: T-test\n",
    "\n",
    "Start out by estimating the impact of Progresa using \"simple differences.\" Restricting yourself to data from 1998 (after treatment).\n",
    "* calculate the average enrollment rate among **poor** households in the Treatment villages and the average enrollment rate among **poor** households in the control villages.\n",
    "* Which difference estimator in Schultz (2004) does this approach correspond to?\n",
    "* Use a t-test to determine if this difference is statistically significant. What do you conclude?"
   ]
  },
  {
   "cell_type": "code",
   "execution_count": 6,
   "metadata": {
    "autoscroll": "json-false",
    "collapsed": false,
    "ein.tags": [
     "worksheet-0"
    ],
    "slideshow": {
     "slide_type": "-"
    }
   },
   "outputs": [
    {
     "name": "stdout",
     "output_type": "stream",
     "text": [
      "\n",
      "Average enrollment rate for Treatment\n",
      "0.8464791213954308\n",
      "\n",
      "Average enrollment rate for Control\n",
      "0.807636956730308\n",
      "\n",
      "T test\n",
      "Ttest_indResult(statistic=-8.3587205674183735, pvalue=6.636344447523235e-17)\n"
     ]
    }
   ],
   "source": [
    "#Average enrollment rate for Treatment\n",
    "prog_t = progresa_df[(progresa_df.year == 98) & (progresa_df.poor == 1) & (progresa_df.progresa == 1)]\n",
    "avg_t = prog_t['sc'].mean()\n",
    "print('\\nAverage enrollment rate for Treatment')\n",
    "print(avg_t)\n",
    "\n",
    "#Average enrollment rate for Treatment\n",
    "prog_c = progresa_df[(progresa_df.year == 98) & (progresa_df.poor == 1) & (progresa_df.progresa == 0)]\n",
    "avg_c = prog_c['sc'].mean()\n",
    "print('\\nAverage enrollment rate for Control')\n",
    "print(avg_c)\n",
    "\n",
    "#T test\n",
    "t_test = stats.ttest_ind(prog_c['sc'][~np.isnan(prog_c['sc'])], prog_t['sc'][~np.isnan(prog_t['sc'])])\n",
    "print('\\nT test')\n",
    "print(t_test)\n",
    "\n",
    "\n"
   ]
  },
  {
   "cell_type": "markdown",
   "metadata": {},
   "source": [
    "The difference estimator that this corresponds to is the D1 difference estimator - \n",
    "D1 = S1t - S2t >0 \n",
    "\n",
    "On observing the results from the t test above, we can conclude that the the treatment had a siginifciant difference in the average enrollment rates. This is because the p value is <<0.05 which implies that the the difference is statistically significant. \n",
    "\n"
   ]
  },
  {
   "cell_type": "markdown",
   "metadata": {
    "ein.tags": [
     "worksheet-0"
    ],
    "slideshow": {
     "slide_type": "-"
    }
   },
   "source": [
    "### 2.2 Simple differences: Regression\n",
    "\n",
    "Estimate the effects of Progresa on enrollment using a regression model, by regressing the 1998 enrollment rates **of the poor** on treatment assignment. Discuss the following:\n",
    "\n",
    "* Based on this model, how much did Progresa increase the likelihood of a child enrolling?\n",
    "* How does your regression estimate compare to your t-test estimate from part 2.1?\n",
    "* Based on this regression model, can we reject the null hypothesis that the treatment effects are zero? \n",
    "* What is the counterfactual assumption underlying this regression?"
   ]
  },
  {
   "cell_type": "code",
   "execution_count": 7,
   "metadata": {
    "autoscroll": "json-false",
    "collapsed": false,
    "ein.tags": [
     "worksheet-0"
    ],
    "slideshow": {
     "slide_type": "-"
    }
   },
   "outputs": [
    {
     "name": "stdout",
     "output_type": "stream",
     "text": [
      "Intercept        0.807637\n",
      "progresa[T.1]    0.038842\n",
      "dtype: float64\n",
      "                            OLS Regression Results                            \n",
      "==============================================================================\n",
      "Dep. Variable:                     sc   R-squared:                       0.003\n",
      "Model:                            OLS   Adj. R-squared:                  0.003\n",
      "Method:                 Least Squares   F-statistic:                     69.87\n",
      "Date:                Thu, 26 Jan 2017   Prob (F-statistic):           6.64e-17\n",
      "Time:                        21:33:01   Log-Likelihood:                -11926.\n",
      "No. Observations:               27450   AIC:                         2.386e+04\n",
      "Df Residuals:                   27448   BIC:                         2.387e+04\n",
      "Df Model:                           1                                         \n",
      "Covariance Type:            nonrobust                                         \n",
      "=================================================================================\n",
      "                    coef    std err          t      P>|t|      [95.0% Conf. Int.]\n",
      "---------------------------------------------------------------------------------\n",
      "Intercept         0.8076      0.004    220.676      0.000         0.800     0.815\n",
      "progresa[T.1]     0.0388      0.005      8.359      0.000         0.030     0.048\n",
      "==============================================================================\n",
      "Omnibus:                     7638.939   Durbin-Watson:                   1.734\n",
      "Prob(Omnibus):                  0.000   Jarque-Bera (JB):            15767.534\n",
      "Skew:                          -1.767   Prob(JB):                         0.00\n",
      "Kurtosis:                       4.140   Cond. No.                         3.01\n",
      "==============================================================================\n",
      "\n",
      "Warnings:\n",
      "[1] Standard Errors assume that the covariance matrix of the errors is correctly specified.\n"
     ]
    }
   ],
   "source": [
    "# Subsetting the data\n",
    "df_98 = progresa_df[(progresa_df.poor == 1) & (progresa_df.year == 98)]\n",
    "\n",
    "# Performing regression\n",
    "lm_fit = smf.ols(formula='sc ~ progresa', data=df_98).fit()\n",
    "print (lm_fit.params)\n",
    "print (lm_fit.summary())"
   ]
  },
  {
   "cell_type": "markdown",
   "metadata": {},
   "source": [
    "1. Based on this model, how much did Progresa increase the likelihood of a child enrolling?\n",
    "Based on this model, we can see that the coefficient of progresa is 0.038. This implies that with the addition of the progresa treatment, there was an increase in the enrollment of students by a factor of 0.038. Thus progresa increased the likelihood of a child enrolling by 0.038.\n",
    "\n",
    "\n",
    "2. How does your regression estimate compare to your t-test estimate from part 2.1?\n",
    "Our regression estimates compare well to the t test performed in 2.1. We can see that the coefficient estimate calculated here i.e 0.807 is equal to the average enrollment rate for control. And if we calculate the rate for treatment which in this case will be 0.807 + 1 * 0.038 = 0.84 which is equal to the rate for treatment in 2.1. Thus matching up to the above values.\n",
    "\n",
    "3. Based on this regression model, can we reject the null hypothesis that the treatment effects are zero?\n",
    "Based on this, we cannot reject the null hypothesis of the treatment effects being zero since the p value is statistically significant i.e p < 0.05.\n",
    "\n",
    "4. What is the counterfactual assumption underlying this regression?\n",
    "The underlying assumption is that in the absence of any treatment, the average enrollment rate for control villages will be equal to treated villages i.e both the groups have no differences before the start of the treatment."
   ]
  },
  {
   "cell_type": "markdown",
   "metadata": {
    "ein.tags": [
     "worksheet-0"
    ],
    "slideshow": {
     "slide_type": "-"
    }
   },
   "source": [
    "### 2.3 Multiple Regression\n",
    "\n",
    "Re-run the above regression estimated but this time include a set of control variables. Include, for instance, age, distance to a secondary school, gender, education of household head, indigenous, etc.\n",
    "\n",
    "* How do the controls affect the point estimate of treatment effect?\n",
    "* How do the controls affect the standard error on the treatment effect? \n",
    "* How do you interpret the differences (or similarities) between your estimates of 2.2 and 2.3?"
   ]
  },
  {
   "cell_type": "code",
   "execution_count": 8,
   "metadata": {
    "autoscroll": "json-false",
    "collapsed": false,
    "ein.tags": [
     "worksheet-0"
    ],
    "slideshow": {
     "slide_type": "-"
    }
   },
   "outputs": [
    {
     "data": {
      "text/html": [
       "<table class=\"simpletable\">\n",
       "<caption>OLS Regression Results</caption>\n",
       "<tr>\n",
       "  <th>Dep. Variable:</th>           <td>sc</td>        <th>  R-squared:         </th> <td>   0.272</td> \n",
       "</tr>\n",
       "<tr>\n",
       "  <th>Model:</th>                   <td>OLS</td>       <th>  Adj. R-squared:    </th> <td>   0.272</td> \n",
       "</tr>\n",
       "<tr>\n",
       "  <th>Method:</th>             <td>Least Squares</td>  <th>  F-statistic:       </th> <td>   849.5</td> \n",
       "</tr>\n",
       "<tr>\n",
       "  <th>Date:</th>             <td>Thu, 26 Jan 2017</td> <th>  Prob (F-statistic):</th>  <td>  0.00</td>  \n",
       "</tr>\n",
       "<tr>\n",
       "  <th>Time:</th>                 <td>21:33:01</td>     <th>  Log-Likelihood:    </th> <td> -7541.1</td> \n",
       "</tr>\n",
       "<tr>\n",
       "  <th>No. Observations:</th>      <td> 27263</td>      <th>  AIC:               </th> <td>1.511e+04</td>\n",
       "</tr>\n",
       "<tr>\n",
       "  <th>Df Residuals:</th>          <td> 27250</td>      <th>  BIC:               </th> <td>1.521e+04</td>\n",
       "</tr>\n",
       "<tr>\n",
       "  <th>Df Model:</th>              <td>    12</td>      <th>                     </th>     <td> </td>    \n",
       "</tr>\n",
       "<tr>\n",
       "  <th>Covariance Type:</th>      <td>nonrobust</td>    <th>                     </th>     <td> </td>    \n",
       "</tr>\n",
       "</table>\n",
       "<table class=\"simpletable\">\n",
       "<tr>\n",
       "        <td></td>           <th>coef</th>     <th>std err</th>      <th>t</th>      <th>P>|t|</th> <th>[95.0% Conf. Int.]</th> \n",
       "</tr>\n",
       "<tr>\n",
       "  <th>Intercept</th>     <td>    1.4431</td> <td>    0.018</td> <td>   80.855</td> <td> 0.000</td> <td>    1.408     1.478</td>\n",
       "</tr>\n",
       "<tr>\n",
       "  <th>progresa[T.1]</th> <td>    0.0337</td> <td>    0.004</td> <td>    8.418</td> <td> 0.000</td> <td>    0.026     0.042</td>\n",
       "</tr>\n",
       "<tr>\n",
       "  <th>sex</th>           <td>    0.0304</td> <td>    0.004</td> <td>    7.847</td> <td> 0.000</td> <td>    0.023     0.038</td>\n",
       "</tr>\n",
       "<tr>\n",
       "  <th>indig</th>         <td>    0.0188</td> <td>    0.005</td> <td>    3.961</td> <td> 0.000</td> <td>    0.009     0.028</td>\n",
       "</tr>\n",
       "<tr>\n",
       "  <th>dist_sec</th>      <td>   -0.0106</td> <td>    0.001</td> <td>  -12.012</td> <td> 0.000</td> <td>   -0.012    -0.009</td>\n",
       "</tr>\n",
       "<tr>\n",
       "  <th>fam_n</th>         <td>    0.0006</td> <td>    0.001</td> <td>    0.727</td> <td> 0.467</td> <td>   -0.001     0.002</td>\n",
       "</tr>\n",
       "<tr>\n",
       "  <th>min_dist</th>      <td>    0.0004</td> <td> 6.34e-05</td> <td>    6.326</td> <td> 0.000</td> <td>    0.000     0.001</td>\n",
       "</tr>\n",
       "<tr>\n",
       "  <th>dist_cap</th>      <td>    0.0002</td> <td>  3.7e-05</td> <td>    5.512</td> <td> 0.000</td> <td>    0.000     0.000</td>\n",
       "</tr>\n",
       "<tr>\n",
       "  <th>hohedu</th>        <td>    0.0079</td> <td>    0.001</td> <td>    9.224</td> <td> 0.000</td> <td>    0.006     0.010</td>\n",
       "</tr>\n",
       "<tr>\n",
       "  <th>hohwag</th>        <td> -7.23e-07</td> <td> 2.81e-06</td> <td>   -0.257</td> <td> 0.797</td> <td>-6.24e-06  4.79e-06</td>\n",
       "</tr>\n",
       "<tr>\n",
       "  <th>welfare_index</th> <td> 2.283e-05</td> <td> 1.82e-05</td> <td>    1.253</td> <td> 0.210</td> <td>-1.29e-05  5.85e-05</td>\n",
       "</tr>\n",
       "<tr>\n",
       "  <th>age</th>           <td>   -0.0657</td> <td>    0.001</td> <td>  -94.750</td> <td> 0.000</td> <td>   -0.067    -0.064</td>\n",
       "</tr>\n",
       "<tr>\n",
       "  <th>hohage</th>        <td>-2.299e-05</td> <td>    0.000</td> <td>   -0.118</td> <td> 0.906</td> <td>   -0.000     0.000</td>\n",
       "</tr>\n",
       "</table>\n",
       "<table class=\"simpletable\">\n",
       "<tr>\n",
       "  <th>Omnibus:</th>       <td>2940.375</td> <th>  Durbin-Watson:     </th> <td>   1.729</td>\n",
       "</tr>\n",
       "<tr>\n",
       "  <th>Prob(Omnibus):</th>  <td> 0.000</td>  <th>  Jarque-Bera (JB):  </th> <td>3992.254</td>\n",
       "</tr>\n",
       "<tr>\n",
       "  <th>Skew:</th>           <td>-0.930</td>  <th>  Prob(JB):          </th> <td>    0.00</td>\n",
       "</tr>\n",
       "<tr>\n",
       "  <th>Kurtosis:</th>       <td> 3.237</td>  <th>  Cond. No.          </th> <td>9.54e+03</td>\n",
       "</tr>\n",
       "</table>"
      ],
      "text/plain": [
       "<class 'statsmodels.iolib.summary.Summary'>\n",
       "\"\"\"\n",
       "                            OLS Regression Results                            \n",
       "==============================================================================\n",
       "Dep. Variable:                     sc   R-squared:                       0.272\n",
       "Model:                            OLS   Adj. R-squared:                  0.272\n",
       "Method:                 Least Squares   F-statistic:                     849.5\n",
       "Date:                Thu, 26 Jan 2017   Prob (F-statistic):               0.00\n",
       "Time:                        21:33:01   Log-Likelihood:                -7541.1\n",
       "No. Observations:               27263   AIC:                         1.511e+04\n",
       "Df Residuals:                   27250   BIC:                         1.521e+04\n",
       "Df Model:                          12                                         \n",
       "Covariance Type:            nonrobust                                         \n",
       "=================================================================================\n",
       "                    coef    std err          t      P>|t|      [95.0% Conf. Int.]\n",
       "---------------------------------------------------------------------------------\n",
       "Intercept         1.4431      0.018     80.855      0.000         1.408     1.478\n",
       "progresa[T.1]     0.0337      0.004      8.418      0.000         0.026     0.042\n",
       "sex               0.0304      0.004      7.847      0.000         0.023     0.038\n",
       "indig             0.0188      0.005      3.961      0.000         0.009     0.028\n",
       "dist_sec         -0.0106      0.001    -12.012      0.000        -0.012    -0.009\n",
       "fam_n             0.0006      0.001      0.727      0.467        -0.001     0.002\n",
       "min_dist          0.0004   6.34e-05      6.326      0.000         0.000     0.001\n",
       "dist_cap          0.0002    3.7e-05      5.512      0.000         0.000     0.000\n",
       "hohedu            0.0079      0.001      9.224      0.000         0.006     0.010\n",
       "hohwag         -7.23e-07   2.81e-06     -0.257      0.797     -6.24e-06  4.79e-06\n",
       "welfare_index  2.283e-05   1.82e-05      1.253      0.210     -1.29e-05  5.85e-05\n",
       "age              -0.0657      0.001    -94.750      0.000        -0.067    -0.064\n",
       "hohage        -2.299e-05      0.000     -0.118      0.906        -0.000     0.000\n",
       "==============================================================================\n",
       "Omnibus:                     2940.375   Durbin-Watson:                   1.729\n",
       "Prob(Omnibus):                  0.000   Jarque-Bera (JB):             3992.254\n",
       "Skew:                          -0.930   Prob(JB):                         0.00\n",
       "Kurtosis:                       3.237   Cond. No.                     9.54e+03\n",
       "==============================================================================\n",
       "\n",
       "Warnings:\n",
       "[1] Standard Errors assume that the covariance matrix of the errors is correctly specified.\n",
       "[2] The condition number is large, 9.54e+03. This might indicate that there are\n",
       "strong multicollinearity or other numerical problems.\n",
       "\"\"\""
      ]
     },
     "execution_count": 8,
     "metadata": {},
     "output_type": "execute_result"
    }
   ],
   "source": [
    "# Multiple linear regression \n",
    "m_lm = smf.ols(formula='sc ~ progresa + sex + indig + dist_sec + fam_n + min_dist + dist_cap + hohedu + hohwag + welfare_index + age + hohage', data=df_98).fit()\n",
    "m_lm.summary()"
   ]
  },
  {
   "cell_type": "markdown",
   "metadata": {},
   "source": [
    "1. How do the controls affect the point estimate of treatment effect?\n",
    "The controls have a slight affect on the point estimates of the treatment effects as we can see that the coefficient value of Progresa decreases from 0.0388 to 0.0337. This though does not necessarily imply a great affect on the siginificance of the variable.\n",
    "\n",
    "2. How do the controls affect the standard error on the treatment effect?\n",
    "The controls tend to enhance the performance of the model as they decrease standard error from 0.005 to 0.004. Even though this is a very slight decrease, it still informs us that the model has slightly improved with the addition of these new variables. \n",
    "\n",
    "3. How do you interpret the differences (or similarities) between your estimates of 2.2 and 2.3?\n",
    "We can see that the value of r squared has significantly increased as compared to 2.2. This implies that our model has significantly improved on adding the various variables in the model. We can also see that the F statistic has iproved significantly indicating a better fit."
   ]
  },
  {
   "cell_type": "markdown",
   "metadata": {
    "ein.tags": [
     "worksheet-0"
    ],
    "slideshow": {
     "slide_type": "-"
    }
   },
   "source": [
    "### 2.4 Difference-in-Difference, version 1 (tabular)\n",
    "\n",
    "Thus far, we have computed the effects of Progresa by estimating the difference in 1998 enrollment rates across villages. An alternative approach would be to compute the treatment effect using a difference-in-differences framework.\n",
    "\n",
    "Begin by estimating the average treatment effects of the program for poor households using data from 1997 and 1998. Specifically, calculate the difference (between 1997 and 1998) in enrollment rates among poor households in treated villages; then compute the difference (between 1997 and 1998) in enrollment rates among poor households in treated villages. The difference between these two differences is your estimate.\n",
    "\n",
    "* What is your estimate of the impact, and how does it compare to your earlier (simple difference) results?\n",
    "* What is the counterfactual assumption underlying this estimate? \n"
   ]
  },
  {
   "cell_type": "code",
   "execution_count": 9,
   "metadata": {
    "autoscroll": "json-false",
    "collapsed": false,
    "ein.tags": [
     "worksheet-0"
    ],
    "slideshow": {
     "slide_type": "-"
    }
   },
   "outputs": [
    {
     "name": "stdout",
     "output_type": "stream",
     "text": [
      "Treatment for 98 0.8464791213954308\n",
      "Treatment for 97 0.8226968874033842\n",
      "Control for 98 0.807636956730308\n",
      "Control for 97 0.8151860030575845\n",
      "\n",
      "The difference in difference value is:  0.031331280319323085\n"
     ]
    }
   ],
   "source": [
    "# Subsetting data \n",
    "df_97 = progresa_df[(progresa_df.poor == 1) & (progresa_df.year == 97)]\n",
    "\n",
    "# Calculating mean \n",
    "t_98 = df_98['sc'][df_98.progresa == 1].mean() \n",
    "print(\"Treatment for 98\", t_98)\n",
    "\n",
    "t_97 = df_97['sc'][df_97.progresa == 1].mean()\n",
    "print(\"Treatment for 97\", t_97)\n",
    "\n",
    "c_98 =  df_98['sc'][df_98.progresa == 0].mean()\n",
    "print(\"Control for 98\", c_98)\n",
    "\n",
    "c_97 =  df_97['sc'][df_97.progresa == 0].mean()\n",
    "print(\"Control for 97\", c_97)\n",
    "\n",
    "# Finding the difference in difference \n",
    "diff_in_diff = (t_98 - t_97) - (c_98 - c_97)\n",
    "\n",
    "print (\"\\nThe difference in difference value is: \", diff_in_diff)\n"
   ]
  },
  {
   "cell_type": "markdown",
   "metadata": {},
   "source": [
    "1. What is your estimate of the impact, and how does it compare to your earlier (simple difference) results?\n",
    "We can see that the difference in difference estimate is 0.0313 which is slightly lower than the one produced with simple difference i.e 0.388.\n",
    "\n",
    "2. What is the counterfactual assumption underlying this estimate?\n",
    "Our assumption is that the enrollment for the treatment and control group would have been the same had there been no treatment. "
   ]
  },
  {
   "cell_type": "markdown",
   "metadata": {
    "ein.tags": [
     "worksheet-0"
    ],
    "slideshow": {
     "slide_type": "-"
    }
   },
   "source": [
    "### 2.5 Difference-in-Difference, version 1 (regression)\n",
    "\n",
    "Now use a regression specification to estimate the average treatment effect of the program (on the poor) in a difference-in-differences framework. Include at least 5 control variables.\n",
    "\n",
    "* What is your estimate of the impact of Progresa? Be very specific in interpreting your coefficients and standard errors, and make sure to specify exactly what units you are measuring and estimating.\n",
    "* How do these estimates of the treatment effect compare to the estimates based on the simple difference?\n",
    "* How do these estimates compare to the difference-in-difference estimates from 2.4 above? What accounts for these differences?\n",
    "* What is the counterfactual assumption underlying this regression? "
   ]
  },
  {
   "cell_type": "code",
   "execution_count": 11,
   "metadata": {
    "autoscroll": "json-false",
    "collapsed": false,
    "ein.tags": [
     "worksheet-0"
    ],
    "slideshow": {
     "slide_type": "-"
    }
   },
   "outputs": [
    {
     "data": {
      "text/html": [
       "<table class=\"simpletable\">\n",
       "<caption>OLS Regression Results</caption>\n",
       "<tr>\n",
       "  <th>Dep. Variable:</th>           <td>sc</td>        <th>  R-squared:         </th> <td>   0.283</td> \n",
       "</tr>\n",
       "<tr>\n",
       "  <th>Model:</th>                   <td>OLS</td>       <th>  Adj. R-squared:    </th> <td>   0.283</td> \n",
       "</tr>\n",
       "<tr>\n",
       "  <th>Method:</th>             <td>Least Squares</td>  <th>  F-statistic:       </th> <td>   2297.</td> \n",
       "</tr>\n",
       "<tr>\n",
       "  <th>Date:</th>             <td>Thu, 26 Jan 2017</td> <th>  Prob (F-statistic):</th>  <td>  0.00</td>  \n",
       "</tr>\n",
       "<tr>\n",
       "  <th>Time:</th>                 <td>21:33:10</td>     <th>  Log-Likelihood:    </th> <td> -16541.</td> \n",
       "</tr>\n",
       "<tr>\n",
       "  <th>No. Observations:</th>      <td> 58165</td>      <th>  AIC:               </th> <td>3.310e+04</td>\n",
       "</tr>\n",
       "<tr>\n",
       "  <th>Df Residuals:</th>          <td> 58154</td>      <th>  BIC:               </th> <td>3.320e+04</td>\n",
       "</tr>\n",
       "<tr>\n",
       "  <th>Df Model:</th>              <td>    10</td>      <th>                     </th>     <td> </td>    \n",
       "</tr>\n",
       "<tr>\n",
       "  <th>Covariance Type:</th>      <td>nonrobust</td>    <th>                     </th>     <td> </td>    \n",
       "</tr>\n",
       "</table>\n",
       "<table class=\"simpletable\">\n",
       "<tr>\n",
       "          <td></td>            <th>coef</th>     <th>std err</th>      <th>t</th>      <th>P>|t|</th> <th>[95.0% Conf. Int.]</th> \n",
       "</tr>\n",
       "<tr>\n",
       "  <th>Intercept</th>        <td>    1.4358</td> <td>    0.007</td> <td>  200.258</td> <td> 0.000</td> <td>    1.422     1.450</td>\n",
       "</tr>\n",
       "<tr>\n",
       "  <th>progresa[T.1]</th>    <td>    0.0031</td> <td>    0.004</td> <td>    0.819</td> <td> 0.413</td> <td>   -0.004     0.011</td>\n",
       "</tr>\n",
       "<tr>\n",
       "  <th>dv</th>               <td>    0.0271</td> <td>    0.004</td> <td>    6.255</td> <td> 0.000</td> <td>    0.019     0.036</td>\n",
       "</tr>\n",
       "<tr>\n",
       "  <th>progresa[T.1]:dv</th> <td>    0.0313</td> <td>    0.006</td> <td>    5.691</td> <td> 0.000</td> <td>    0.021     0.042</td>\n",
       "</tr>\n",
       "<tr>\n",
       "  <th>sex</th>              <td>    0.0333</td> <td>    0.003</td> <td>   12.489</td> <td> 0.000</td> <td>    0.028     0.039</td>\n",
       "</tr>\n",
       "<tr>\n",
       "  <th>indig</th>            <td>    0.0238</td> <td>    0.003</td> <td>    7.319</td> <td> 0.000</td> <td>    0.017     0.030</td>\n",
       "</tr>\n",
       "<tr>\n",
       "  <th>dist_sec</th>         <td>   -0.0098</td> <td>    0.001</td> <td>  -15.880</td> <td> 0.000</td> <td>   -0.011    -0.009</td>\n",
       "</tr>\n",
       "<tr>\n",
       "  <th>min_dist</th>         <td>    0.0004</td> <td> 4.38e-05</td> <td>    8.475</td> <td> 0.000</td> <td>    0.000     0.000</td>\n",
       "</tr>\n",
       "<tr>\n",
       "  <th>dist_cap</th>         <td>    0.0002</td> <td> 2.55e-05</td> <td>    7.495</td> <td> 0.000</td> <td>    0.000     0.000</td>\n",
       "</tr>\n",
       "<tr>\n",
       "  <th>hohedu</th>           <td>    0.0069</td> <td>    0.001</td> <td>   12.841</td> <td> 0.000</td> <td>    0.006     0.008</td>\n",
       "</tr>\n",
       "<tr>\n",
       "  <th>age</th>              <td>   -0.0656</td> <td>    0.000</td> <td> -145.203</td> <td> 0.000</td> <td>   -0.067    -0.065</td>\n",
       "</tr>\n",
       "</table>\n",
       "<table class=\"simpletable\">\n",
       "<tr>\n",
       "  <th>Omnibus:</th>       <td>5449.364</td> <th>  Durbin-Watson:     </th> <td>   1.492</td>\n",
       "</tr>\n",
       "<tr>\n",
       "  <th>Prob(Omnibus):</th>  <td> 0.000</td>  <th>  Jarque-Bera (JB):  </th> <td>7146.926</td>\n",
       "</tr>\n",
       "<tr>\n",
       "  <th>Skew:</th>           <td>-0.857</td>  <th>  Prob(JB):          </th> <td>    0.00</td>\n",
       "</tr>\n",
       "<tr>\n",
       "  <th>Kurtosis:</th>       <td> 3.106</td>  <th>  Cond. No.          </th> <td>1.24e+03</td>\n",
       "</tr>\n",
       "</table>"
      ],
      "text/plain": [
       "<class 'statsmodels.iolib.summary.Summary'>\n",
       "\"\"\"\n",
       "                            OLS Regression Results                            \n",
       "==============================================================================\n",
       "Dep. Variable:                     sc   R-squared:                       0.283\n",
       "Model:                            OLS   Adj. R-squared:                  0.283\n",
       "Method:                 Least Squares   F-statistic:                     2297.\n",
       "Date:                Thu, 26 Jan 2017   Prob (F-statistic):               0.00\n",
       "Time:                        21:33:10   Log-Likelihood:                -16541.\n",
       "No. Observations:               58165   AIC:                         3.310e+04\n",
       "Df Residuals:                   58154   BIC:                         3.320e+04\n",
       "Df Model:                          10                                         \n",
       "Covariance Type:            nonrobust                                         \n",
       "====================================================================================\n",
       "                       coef    std err          t      P>|t|      [95.0% Conf. Int.]\n",
       "------------------------------------------------------------------------------------\n",
       "Intercept            1.4358      0.007    200.258      0.000         1.422     1.450\n",
       "progresa[T.1]        0.0031      0.004      0.819      0.413        -0.004     0.011\n",
       "dv                   0.0271      0.004      6.255      0.000         0.019     0.036\n",
       "progresa[T.1]:dv     0.0313      0.006      5.691      0.000         0.021     0.042\n",
       "sex                  0.0333      0.003     12.489      0.000         0.028     0.039\n",
       "indig                0.0238      0.003      7.319      0.000         0.017     0.030\n",
       "dist_sec            -0.0098      0.001    -15.880      0.000        -0.011    -0.009\n",
       "min_dist             0.0004   4.38e-05      8.475      0.000         0.000     0.000\n",
       "dist_cap             0.0002   2.55e-05      7.495      0.000         0.000     0.000\n",
       "hohedu               0.0069      0.001     12.841      0.000         0.006     0.008\n",
       "age                 -0.0656      0.000   -145.203      0.000        -0.067    -0.065\n",
       "==============================================================================\n",
       "Omnibus:                     5449.364   Durbin-Watson:                   1.492\n",
       "Prob(Omnibus):                  0.000   Jarque-Bera (JB):             7146.926\n",
       "Skew:                          -0.857   Prob(JB):                         0.00\n",
       "Kurtosis:                       3.106   Cond. No.                     1.24e+03\n",
       "==============================================================================\n",
       "\n",
       "Warnings:\n",
       "[1] Standard Errors assume that the covariance matrix of the errors is correctly specified.\n",
       "[2] The condition number is large, 1.24e+03. This might indicate that there are\n",
       "strong multicollinearity or other numerical problems.\n",
       "\"\"\""
      ]
     },
     "execution_count": 11,
     "metadata": {},
     "output_type": "execute_result"
    }
   ],
   "source": [
    "#Include data with only the poor\n",
    "prog_poor = progresa_df[progresa_df['poor'] == 1]\n",
    "\n",
    "#Create dummy variable for time \n",
    "progresa_df.loc[progresa_df.year == 97, 'dv'] = 0\n",
    "progresa_df.loc[progresa_df.year == 98, 'dv'] = 1\n",
    "\n",
    "pd.to_numeric(progresa_df['progresa'])\n",
    "pd.to_numeric(progresa_df['poor'])\n",
    "\n",
    "diff_reg = smf.ols(formula = 'sc ~ progresa + dv + progresa:dv + sex + indig + dist_sec  + min_dist + dist_cap + hohedu + age ', data=prog_poor).fit()\n",
    "diff_reg.summary()"
   ]
  },
  {
   "cell_type": "markdown",
   "metadata": {},
   "source": [
    "1. What is your estimate of the impact of Progresa? Be very specific in interpreting your coefficients and standard errors, and make sure to specify exactly what units you are measuring and estimating.\n",
    "We create a dummy variable to differentiate between values for the year 97 and 98, to be able to measure the interaction term. We can see that the p value for progresa alone is not statistically significant but the interaction term is. Thus we can say that for families sampled in 1998, the average enrollment rate is 0.0313 (coefficient estimate) higher as compared to 1997. Thus implying that the interaction of year and progresa had a positive impact on the average enrollment. \n",
    "We see that all variables except Progresa have a statistically significant relationship with the enrollment.\n",
    "\n",
    "2. How do these estimates of the treatment effect compare to the estimates based on the simple difference?\n",
    "The estimates of the treatment effect are slightly lower than the ones we calculated in the simple difference. This might be because of the interaction term introduced which leads to a better precision. \n",
    "\n",
    "3. How do these estimates compare to the difference-in-difference estimates from 2.4 above? What accounts for these differences?\n",
    "The estimates in this is more or less equivalent to the ones calculated in 2.4. The slight difference can be due to the addition of the conrol variable.\n",
    "\n",
    "4. What is the counterfactual assumption underlying this regression?\n",
    "The assumption underlying this regression is that the trends in both the groups would have remained unchanged without the inclusion of the treatment."
   ]
  },
  {
   "cell_type": "markdown",
   "metadata": {
    "ein.tags": [
     "worksheet-0"
    ],
    "slideshow": {
     "slide_type": "-"
    }
   },
   "source": [
    "### 2.6 Difference-in-Difference, version 2\n",
    "\n",
    "In the previous problem, you estimated a difference-in-differences model that compared changes in enrollment rates over time across treatment and control villages. An alternative approach would be to compare enrollment rates in 1998 between poor and non-poor across treatment and control villages. \n",
    "\n",
    "* How would we estimate this version of the treatment effects in a regression model? \n",
    "* What is the counterfactual assumption underlying this regression?\n",
    "* How do these treatment effects compare to the estimates above?\n",
    "* Discuss some possible explanations for differences or similarities "
   ]
  },
  {
   "cell_type": "code",
   "execution_count": 12,
   "metadata": {
    "collapsed": false
   },
   "outputs": [
    {
     "data": {
      "text/html": [
       "<table class=\"simpletable\">\n",
       "<caption>OLS Regression Results</caption>\n",
       "<tr>\n",
       "  <th>Dep. Variable:</th>           <td>sc</td>        <th>  R-squared:         </th> <td>   0.274</td> \n",
       "</tr>\n",
       "<tr>\n",
       "  <th>Model:</th>                   <td>OLS</td>       <th>  Adj. R-squared:    </th> <td>   0.274</td> \n",
       "</tr>\n",
       "<tr>\n",
       "  <th>Method:</th>             <td>Least Squares</td>  <th>  F-statistic:       </th> <td>   1206.</td> \n",
       "</tr>\n",
       "<tr>\n",
       "  <th>Date:</th>             <td>Thu, 26 Jan 2017</td> <th>  Prob (F-statistic):</th>  <td>  0.00</td>  \n",
       "</tr>\n",
       "<tr>\n",
       "  <th>Time:</th>                 <td>21:33:13</td>     <th>  Log-Likelihood:    </th> <td> -9216.0</td> \n",
       "</tr>\n",
       "<tr>\n",
       "  <th>No. Observations:</th>      <td> 31975</td>      <th>  AIC:               </th> <td>1.845e+04</td>\n",
       "</tr>\n",
       "<tr>\n",
       "  <th>Df Residuals:</th>          <td> 31964</td>      <th>  BIC:               </th> <td>1.855e+04</td>\n",
       "</tr>\n",
       "<tr>\n",
       "  <th>Df Model:</th>              <td>    10</td>      <th>                     </th>     <td> </td>    \n",
       "</tr>\n",
       "<tr>\n",
       "  <th>Covariance Type:</th>      <td>nonrobust</td>    <th>                     </th>     <td> </td>    \n",
       "</tr>\n",
       "</table>\n",
       "<table class=\"simpletable\">\n",
       "<tr>\n",
       "             <td></td>                <th>coef</th>     <th>std err</th>      <th>t</th>      <th>P>|t|</th> <th>[95.0% Conf. Int.]</th> \n",
       "</tr>\n",
       "<tr>\n",
       "  <th>Intercept</th>               <td>    1.4874</td> <td>    0.012</td> <td>  122.624</td> <td> 0.000</td> <td>    1.464     1.511</td>\n",
       "</tr>\n",
       "<tr>\n",
       "  <th>progresa[T.1]</th>           <td>    0.0244</td> <td>    0.010</td> <td>    2.515</td> <td> 0.012</td> <td>    0.005     0.043</td>\n",
       "</tr>\n",
       "<tr>\n",
       "  <th>poor[T.1]</th>               <td>   -0.0241</td> <td>    0.008</td> <td>   -2.913</td> <td> 0.004</td> <td>   -0.040    -0.008</td>\n",
       "</tr>\n",
       "<tr>\n",
       "  <th>progresa[T.1]:poor[T.1]</th> <td>    0.0102</td> <td>    0.010</td> <td>    0.971</td> <td> 0.332</td> <td>   -0.010     0.031</td>\n",
       "</tr>\n",
       "<tr>\n",
       "  <th>sex</th>                     <td>    0.0306</td> <td>    0.004</td> <td>    8.459</td> <td> 0.000</td> <td>    0.023     0.038</td>\n",
       "</tr>\n",
       "<tr>\n",
       "  <th>indig</th>                   <td>    0.0181</td> <td>    0.004</td> <td>    4.032</td> <td> 0.000</td> <td>    0.009     0.027</td>\n",
       "</tr>\n",
       "<tr>\n",
       "  <th>dist_sec</th>                <td>   -0.0109</td> <td>    0.001</td> <td>  -13.034</td> <td> 0.000</td> <td>   -0.013    -0.009</td>\n",
       "</tr>\n",
       "<tr>\n",
       "  <th>min_dist</th>                <td>    0.0003</td> <td> 5.93e-05</td> <td>    5.649</td> <td> 0.000</td> <td>    0.000     0.000</td>\n",
       "</tr>\n",
       "<tr>\n",
       "  <th>dist_cap</th>                <td>    0.0003</td> <td> 3.51e-05</td> <td>    7.398</td> <td> 0.000</td> <td>    0.000     0.000</td>\n",
       "</tr>\n",
       "<tr>\n",
       "  <th>hohedu</th>                  <td>    0.0085</td> <td>    0.001</td> <td>   12.302</td> <td> 0.000</td> <td>    0.007     0.010</td>\n",
       "</tr>\n",
       "<tr>\n",
       "  <th>age</th>                     <td>   -0.0662</td> <td>    0.001</td> <td> -103.741</td> <td> 0.000</td> <td>   -0.067    -0.065</td>\n",
       "</tr>\n",
       "</table>\n",
       "<table class=\"simpletable\">\n",
       "<tr>\n",
       "  <th>Omnibus:</th>       <td>3161.284</td> <th>  Durbin-Watson:     </th> <td>   1.732</td>\n",
       "</tr>\n",
       "<tr>\n",
       "  <th>Prob(Omnibus):</th>  <td> 0.000</td>  <th>  Jarque-Bera (JB):  </th> <td>4205.406</td>\n",
       "</tr>\n",
       "<tr>\n",
       "  <th>Skew:</th>           <td>-0.887</td>  <th>  Prob(JB):          </th> <td>    0.00</td>\n",
       "</tr>\n",
       "<tr>\n",
       "  <th>Kurtosis:</th>       <td> 3.109</td>  <th>  Cond. No.          </th> <td>1.92e+03</td>\n",
       "</tr>\n",
       "</table>"
      ],
      "text/plain": [
       "<class 'statsmodels.iolib.summary.Summary'>\n",
       "\"\"\"\n",
       "                            OLS Regression Results                            \n",
       "==============================================================================\n",
       "Dep. Variable:                     sc   R-squared:                       0.274\n",
       "Model:                            OLS   Adj. R-squared:                  0.274\n",
       "Method:                 Least Squares   F-statistic:                     1206.\n",
       "Date:                Thu, 26 Jan 2017   Prob (F-statistic):               0.00\n",
       "Time:                        21:33:13   Log-Likelihood:                -9216.0\n",
       "No. Observations:               31975   AIC:                         1.845e+04\n",
       "Df Residuals:                   31964   BIC:                         1.855e+04\n",
       "Df Model:                          10                                         \n",
       "Covariance Type:            nonrobust                                         \n",
       "===========================================================================================\n",
       "                              coef    std err          t      P>|t|      [95.0% Conf. Int.]\n",
       "-------------------------------------------------------------------------------------------\n",
       "Intercept                   1.4874      0.012    122.624      0.000         1.464     1.511\n",
       "progresa[T.1]               0.0244      0.010      2.515      0.012         0.005     0.043\n",
       "poor[T.1]                  -0.0241      0.008     -2.913      0.004        -0.040    -0.008\n",
       "progresa[T.1]:poor[T.1]     0.0102      0.010      0.971      0.332        -0.010     0.031\n",
       "sex                         0.0306      0.004      8.459      0.000         0.023     0.038\n",
       "indig                       0.0181      0.004      4.032      0.000         0.009     0.027\n",
       "dist_sec                   -0.0109      0.001    -13.034      0.000        -0.013    -0.009\n",
       "min_dist                    0.0003   5.93e-05      5.649      0.000         0.000     0.000\n",
       "dist_cap                    0.0003   3.51e-05      7.398      0.000         0.000     0.000\n",
       "hohedu                      0.0085      0.001     12.302      0.000         0.007     0.010\n",
       "age                        -0.0662      0.001   -103.741      0.000        -0.067    -0.065\n",
       "==============================================================================\n",
       "Omnibus:                     3161.284   Durbin-Watson:                   1.732\n",
       "Prob(Omnibus):                  0.000   Jarque-Bera (JB):             4205.406\n",
       "Skew:                          -0.887   Prob(JB):                         0.00\n",
       "Kurtosis:                       3.109   Cond. No.                     1.92e+03\n",
       "==============================================================================\n",
       "\n",
       "Warnings:\n",
       "[1] Standard Errors assume that the covariance matrix of the errors is correctly specified.\n",
       "[2] The condition number is large, 1.92e+03. This might indicate that there are\n",
       "strong multicollinearity or other numerical problems.\n",
       "\"\"\""
      ]
     },
     "execution_count": 12,
     "metadata": {},
     "output_type": "execute_result"
    }
   ],
   "source": [
    "# use a dummy variable for poor and non poor \n",
    "# Restrict data to the year 1998\n",
    "progresa_98 = progresa_df[progresa_df['year'] == 98]\n",
    "diff_reg2 = smf.ols(formula = 'sc ~ progresa + poor + progresa:poor + sex + indig + dist_sec  + min_dist + dist_cap + hohedu + age', data=progresa_98).fit()\n",
    "diff_reg2.summary()"
   ]
  },
  {
   "cell_type": "markdown",
   "metadata": {
    "autoscroll": "json-false",
    "collapsed": false,
    "ein.tags": [
     "worksheet-0"
    ],
    "slideshow": {
     "slide_type": "-"
    }
   },
   "source": [
    "1. How would we estimate this version of the treatment effects in a regression model?\n",
    "We can see that the estimates have changed significantly along with their statistical significance\n",
    "The progresa variable is now statistically significant with the estimate of 0.0244 which is higher than the estimate obtained in the previous step.\n",
    "The poor variable now has a negative coefficient which might imply that the enrollment rates for poor houselds is still low and this value is statistically significant.\n",
    "The interaction term has a positive coefficient but now has become statistically insignificant.\n",
    "\n",
    "\n",
    "2. What is the counterfactual assumption underlying this regression?\n",
    "The assumption in this regression is that the average enrollment rate for poor and non poor households would have stayed the same had there been no treatment.\n",
    "\n",
    "3. How do these treatment effects compare to the estimates above?\n",
    "The treatment effects in this regression suggest that the interaction term of progresa and poor is no longer statistically signiificant whereas progresa becomes statistically significant, with the value of coefficient estimates higher than the ones obtained above. The estimate for the interaction term obtained above is higher than the estimate oobtained in this regression, thus suggesting slightly higher impact.\n",
    "\n",
    "4. Discuss some possible explanations for differences or similarities\n",
    "The reason behind the interaction term becoming stastically insignificant can be attributed to the fact that the non poor households were not subjected to the treatment but already had above average enrollment rates. Thus it doesnt really help the model explain the difference between the enrollment rates.\n"
   ]
  },
  {
   "cell_type": "markdown",
   "metadata": {
    "ein.tags": [
     "worksheet-0"
    ],
    "slideshow": {
     "slide_type": "-"
    }
   },
   "source": [
    "### 2.7 Spillover effects (extra credit)\n",
    "\n",
    "Thus far, we have focused on the impact of PROGRESA on poor households. Repeat your analysis in 2.5, using a double-difference regression to estimate the impact of PROGRESA on non-poor households. In other words, compare the difference in enrollments between 1997 and 1998 for non-poor households in treatment villages with the difference in enrollments between 1997 and 1998 for non-poor households in control villages.\n",
    "\n",
    "* A: Describe one or two reasons why PROGRESA might have impacted non-poor households.\n",
    "* B: Do you observe any impacts of PROGRESA on the non-poor?\n",
    "* C: What is the identifying assumption that you are using to estimate the impact of PROGRESA on non-poor households."
   ]
  },
  {
   "cell_type": "code",
   "execution_count": 13,
   "metadata": {
    "collapsed": false
   },
   "outputs": [
    {
     "data": {
      "text/html": [
       "<table class=\"simpletable\">\n",
       "<caption>OLS Regression Results</caption>\n",
       "<tr>\n",
       "  <th>Dep. Variable:</th>           <td>sc</td>        <th>  R-squared:         </th> <td>   0.292</td>\n",
       "</tr>\n",
       "<tr>\n",
       "  <th>Model:</th>                   <td>OLS</td>       <th>  Adj. R-squared:    </th> <td>   0.291</td>\n",
       "</tr>\n",
       "<tr>\n",
       "  <th>Method:</th>             <td>Least Squares</td>  <th>  F-statistic:       </th> <td>   388.0</td>\n",
       "</tr>\n",
       "<tr>\n",
       "  <th>Date:</th>             <td>Thu, 26 Jan 2017</td> <th>  Prob (F-statistic):</th>  <td>  0.00</td> \n",
       "</tr>\n",
       "<tr>\n",
       "  <th>Time:</th>                 <td>21:33:13</td>     <th>  Log-Likelihood:    </th> <td> -3642.3</td>\n",
       "</tr>\n",
       "<tr>\n",
       "  <th>No. Observations:</th>      <td> 10378</td>      <th>  AIC:               </th> <td>   7309.</td>\n",
       "</tr>\n",
       "<tr>\n",
       "  <th>Df Residuals:</th>          <td> 10366</td>      <th>  BIC:               </th> <td>   7396.</td>\n",
       "</tr>\n",
       "<tr>\n",
       "  <th>Df Model:</th>              <td>    11</td>      <th>                     </th>     <td> </td>   \n",
       "</tr>\n",
       "<tr>\n",
       "  <th>Covariance Type:</th>      <td>nonrobust</td>    <th>                     </th>     <td> </td>   \n",
       "</tr>\n",
       "</table>\n",
       "<table class=\"simpletable\">\n",
       "<tr>\n",
       "          <td></td>            <th>coef</th>     <th>std err</th>      <th>t</th>      <th>P>|t|</th> <th>[95.0% Conf. Int.]</th> \n",
       "</tr>\n",
       "<tr>\n",
       "  <th>Intercept</th>        <td>    1.4764</td> <td>    0.024</td> <td>   61.778</td> <td> 0.000</td> <td>    1.430     1.523</td>\n",
       "</tr>\n",
       "<tr>\n",
       "  <th>progresa[T.1]</th>    <td>    0.0246</td> <td>    0.009</td> <td>    2.651</td> <td> 0.008</td> <td>    0.006     0.043</td>\n",
       "</tr>\n",
       "<tr>\n",
       "  <th>dv</th>               <td>    0.0394</td> <td>    0.011</td> <td>    3.659</td> <td> 0.000</td> <td>    0.018     0.060</td>\n",
       "</tr>\n",
       "<tr>\n",
       "  <th>progresa[T.1]:dv</th> <td>   -0.0030</td> <td>    0.014</td> <td>   -0.214</td> <td> 0.830</td> <td>   -0.030     0.024</td>\n",
       "</tr>\n",
       "<tr>\n",
       "  <th>sex</th>              <td>    0.0303</td> <td>    0.007</td> <td>    4.490</td> <td> 0.000</td> <td>    0.017     0.044</td>\n",
       "</tr>\n",
       "<tr>\n",
       "  <th>indig</th>            <td>    0.0129</td> <td>    0.010</td> <td>    1.237</td> <td> 0.216</td> <td>   -0.008     0.033</td>\n",
       "</tr>\n",
       "<tr>\n",
       "  <th>dist_sec</th>         <td>   -0.0154</td> <td>    0.002</td> <td>   -8.726</td> <td> 0.000</td> <td>   -0.019    -0.012</td>\n",
       "</tr>\n",
       "<tr>\n",
       "  <th>min_dist</th>         <td>-8.567e-05</td> <td>    0.000</td> <td>   -0.740</td> <td> 0.459</td> <td>   -0.000     0.000</td>\n",
       "</tr>\n",
       "<tr>\n",
       "  <th>dist_cap</th>         <td>    0.0006</td> <td> 7.62e-05</td> <td>    8.293</td> <td> 0.000</td> <td>    0.000     0.001</td>\n",
       "</tr>\n",
       "<tr>\n",
       "  <th>hohedu</th>           <td>    0.0090</td> <td>    0.001</td> <td>    7.555</td> <td> 0.000</td> <td>    0.007     0.011</td>\n",
       "</tr>\n",
       "<tr>\n",
       "  <th>age</th>              <td>   -0.0686</td> <td>    0.001</td> <td>  -59.984</td> <td> 0.000</td> <td>   -0.071    -0.066</td>\n",
       "</tr>\n",
       "<tr>\n",
       "  <th>hohage</th>           <td> 7.182e-05</td> <td>    0.000</td> <td>    0.214</td> <td> 0.831</td> <td>   -0.001     0.001</td>\n",
       "</tr>\n",
       "</table>\n",
       "<table class=\"simpletable\">\n",
       "<tr>\n",
       "  <th>Omnibus:</th>       <td>840.967</td> <th>  Durbin-Watson:     </th> <td>   1.504</td> \n",
       "</tr>\n",
       "<tr>\n",
       "  <th>Prob(Omnibus):</th> <td> 0.000</td>  <th>  Jarque-Bera (JB):  </th> <td> 800.243</td> \n",
       "</tr>\n",
       "<tr>\n",
       "  <th>Skew:</th>          <td>-0.620</td>  <th>  Prob(JB):          </th> <td>1.70e-174</td>\n",
       "</tr>\n",
       "<tr>\n",
       "  <th>Kurtosis:</th>      <td> 2.439</td>  <th>  Cond. No.          </th> <td>1.27e+03</td> \n",
       "</tr>\n",
       "</table>"
      ],
      "text/plain": [
       "<class 'statsmodels.iolib.summary.Summary'>\n",
       "\"\"\"\n",
       "                            OLS Regression Results                            \n",
       "==============================================================================\n",
       "Dep. Variable:                     sc   R-squared:                       0.292\n",
       "Model:                            OLS   Adj. R-squared:                  0.291\n",
       "Method:                 Least Squares   F-statistic:                     388.0\n",
       "Date:                Thu, 26 Jan 2017   Prob (F-statistic):               0.00\n",
       "Time:                        21:33:13   Log-Likelihood:                -3642.3\n",
       "No. Observations:               10378   AIC:                             7309.\n",
       "Df Residuals:                   10366   BIC:                             7396.\n",
       "Df Model:                          11                                         \n",
       "Covariance Type:            nonrobust                                         \n",
       "====================================================================================\n",
       "                       coef    std err          t      P>|t|      [95.0% Conf. Int.]\n",
       "------------------------------------------------------------------------------------\n",
       "Intercept            1.4764      0.024     61.778      0.000         1.430     1.523\n",
       "progresa[T.1]        0.0246      0.009      2.651      0.008         0.006     0.043\n",
       "dv                   0.0394      0.011      3.659      0.000         0.018     0.060\n",
       "progresa[T.1]:dv    -0.0030      0.014     -0.214      0.830        -0.030     0.024\n",
       "sex                  0.0303      0.007      4.490      0.000         0.017     0.044\n",
       "indig                0.0129      0.010      1.237      0.216        -0.008     0.033\n",
       "dist_sec            -0.0154      0.002     -8.726      0.000        -0.019    -0.012\n",
       "min_dist         -8.567e-05      0.000     -0.740      0.459        -0.000     0.000\n",
       "dist_cap             0.0006   7.62e-05      8.293      0.000         0.000     0.001\n",
       "hohedu               0.0090      0.001      7.555      0.000         0.007     0.011\n",
       "age                 -0.0686      0.001    -59.984      0.000        -0.071    -0.066\n",
       "hohage            7.182e-05      0.000      0.214      0.831        -0.001     0.001\n",
       "==============================================================================\n",
       "Omnibus:                      840.967   Durbin-Watson:                   1.504\n",
       "Prob(Omnibus):                  0.000   Jarque-Bera (JB):              800.243\n",
       "Skew:                          -0.620   Prob(JB):                    1.70e-174\n",
       "Kurtosis:                       2.439   Cond. No.                     1.27e+03\n",
       "==============================================================================\n",
       "\n",
       "Warnings:\n",
       "[1] Standard Errors assume that the covariance matrix of the errors is correctly specified.\n",
       "[2] The condition number is large, 1.27e+03. This might indicate that there are\n",
       "strong multicollinearity or other numerical problems.\n",
       "\"\"\""
      ]
     },
     "execution_count": 13,
     "metadata": {},
     "output_type": "execute_result"
    }
   ],
   "source": [
    "#Subset data for non poor households\n",
    "progresa_not_poor = progresa_df[progresa_df['poor'] == 0]\n",
    "\n",
    "#Fitting regression function\n",
    "diff_reg3 = smf.ols(formula = 'sc ~ progresa + dv + progresa:dv + sex + indig + dist_sec  + min_dist + dist_cap + hohedu + age + hohage', data=progresa_not_poor).fit()\n",
    "diff_reg3.summary()"
   ]
  },
  {
   "cell_type": "markdown",
   "metadata": {
    "autoscroll": "json-false",
    "collapsed": false,
    "ein.tags": [
     "worksheet-0"
    ],
    "slideshow": {
     "slide_type": "-"
    }
   },
   "source": [
    "A: Describe one or two reasons why PROGRESA might have impacted non-poor households.\n",
    "The progresa program might have impacted non poor households as it might have created the environment of sending kids to school. This can have a mirror effect on individuals who are inclined to send their kids to school after looking at others. This can explain the increase in the average enrollment rates for non poor households\n",
    "\n",
    "B: Do you observe any impacts of PROGRESA on the non-poor?\n",
    "Yes, there is an impat of the progresa on the non poor as we can see a positive value of the coefficient estimate which is statistically significant. Thus we can conclude that the average enrollment rates increases by a factor of 0.0394 by the change in year, which is significant.\n",
    "\n",
    "C: What is the identifying assumption that you are using to estimate the impact of PROGRESA on non-poor households.\n",
    "The identifying assumption is that there would have been no difference in the enrollment rates of non-poor household had there been no introduction of progresa treatment.\n"
   ]
  },
  {
   "cell_type": "markdown",
   "metadata": {
    "ein.tags": [
     "worksheet-0"
    ],
    "slideshow": {
     "slide_type": "-"
    }
   },
   "source": [
    "### 2.8 Summary\n",
    "\n",
    "Based on all the analysis you have undertaken to date, do you thik that Progresa had a causal impact on the enrollment rates of poor households in Mexico?"
   ]
  },
  {
   "cell_type": "markdown",
   "metadata": {
    "autoscroll": "json-false",
    "collapsed": false,
    "ein.tags": [
     "worksheet-0"
    ],
    "slideshow": {
     "slide_type": "-"
    }
   },
   "source": [
    "Based on the analysis performed above, we can conclude that Progresa had a causal impact on enrollment rates of household in Mexico, and not just the poor household but even the non-poor household as an additional effect. Thus the Progresa program proved to be beneficial for the treatment as well as control group. This is on the assumption that there would have been no additional effect had this program not been introduced and all the other factors were kept constant. \n",
    "\n",
    "Thus as a final verdict, the Progresa did help the the average enrollment rates to increase (even though by a small number) in Mexico."
   ]
  }
 ],
 "metadata": {
  "anaconda-cloud": {},
  "kernelspec": {
   "display_name": "Python [conda root]",
   "language": "python",
   "name": "conda-root-py"
  },
  "language_info": {
   "codemirror_mode": {
    "name": "ipython",
    "version": 3
   },
   "file_extension": ".py",
   "mimetype": "text/x-python",
   "name": "python",
   "nbconvert_exporter": "python",
   "pygments_lexer": "ipython3",
   "version": "3.5.2"
  },
  "name": "INFX574-PS2.ipynb"
 },
 "nbformat": 4,
 "nbformat_minor": 2
}
